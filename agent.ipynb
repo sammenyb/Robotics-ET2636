{
 "cells": [
  {
   "cell_type": "code",
   "execution_count": 1,
   "id": "respiratory-training",
   "metadata": {},
   "outputs": [
    {
     "ename": "ModuleNotFoundError",
     "evalue": "No module named 'jetbot'",
     "output_type": "error",
     "traceback": [
      "\u001b[31m---------------------------------------------------------------------------\u001b[39m",
      "\u001b[31mModuleNotFoundError\u001b[39m                       Traceback (most recent call last)",
      "\u001b[36mCell\u001b[39m\u001b[36m \u001b[39m\u001b[32mIn[1]\u001b[39m\u001b[32m, line 3\u001b[39m\n\u001b[32m      1\u001b[39m \u001b[38;5;28;01mimport\u001b[39;00m\u001b[38;5;250m \u001b[39m\u001b[34;01mcv2\u001b[39;00m\n\u001b[32m      2\u001b[39m \u001b[38;5;28;01mimport\u001b[39;00m\u001b[38;5;250m \u001b[39m\u001b[34;01mnumpy\u001b[39;00m\u001b[38;5;250m \u001b[39m\u001b[38;5;28;01mas\u001b[39;00m\u001b[38;5;250m \u001b[39m\u001b[34;01mnp\u001b[39;00m\n\u001b[32m----> \u001b[39m\u001b[32m3\u001b[39m \u001b[38;5;28;01mfrom\u001b[39;00m\u001b[38;5;250m \u001b[39m\u001b[34;01mjetbot\u001b[39;00m\u001b[38;5;250m \u001b[39m\u001b[38;5;28;01mimport\u001b[39;00m Camera, Robot\n\u001b[32m      4\u001b[39m \u001b[38;5;28;01mfrom\u001b[39;00m\u001b[38;5;250m \u001b[39m\u001b[34;01mhttp\u001b[39;00m\u001b[34;01m.\u001b[39;00m\u001b[34;01mserver\u001b[39;00m\u001b[38;5;250m \u001b[39m\u001b[38;5;28;01mimport\u001b[39;00m BaseHTTPRequestHandler, HTTPServer\n\u001b[32m      5\u001b[39m \u001b[38;5;28;01mimport\u001b[39;00m\u001b[38;5;250m \u001b[39m\u001b[34;01mthreading\u001b[39;00m\n",
      "\u001b[31mModuleNotFoundError\u001b[39m: No module named 'jetbot'"
     ]
    }
   ],
   "source": [
    "import cv2\n",
    "import numpy as np\n",
    "from jetbot import Camera, Robot\n",
    "from http.server import BaseHTTPRequestHandler, HTTPServer\n",
    "import threading\n",
    "import urllib.parse\n",
    "\n",
    "# Function to convert BGR8 images to JPEG\n",
    "def bgr8_to_jpeg(value):\n",
    "    return cv2.imencode('.jpg', value)[1].tobytes()\n",
    "\n",
    "# Initialize the camera and robot\n",
    "camera = Camera.instance(width=224, height=224)\n",
    "robot = Robot()\n",
    "# HTTP request handler class\n",
    "class CameraHandler(BaseHTTPRequestHandler):\n",
    "    def do_GET(self):\n",
    "        if self.path.startswith('/camera'):\n",
    "            self.send_response(200)\n",
    "            self.send_header('Content-type', 'image/jpeg')\n",
    "            self.end_headers()\n",
    "            self.wfile.write(bgr8_to_jpeg(camera.value))\n",
    "        else:\n",
    "            query = urllib.parse.urlparse(self.path).query\n",
    "            params = urllib.parse.parse_qs(query)\n",
    "            if self.path.startswith('/set_motors'):\n",
    "                left_speed = float(params.get('left', [0])[0])\n",
    "                right_speed = float(params.get('right', [0])[0])\n",
    "                robot.set_motors(left_speed, right_speed)\n",
    "                self.send_response(200)\n",
    "                self.end_headers()\n",
    "                self.wfile.write(b'Motors set')\n",
    "                \n",
    "            elif self.path.startswith('/left'):\n",
    "                speed = float(params.get('speed', [0])[0])\n",
    "                robot.left(speed)\n",
    "                self.send_response(200)\n",
    "                self.end_headers()\n",
    "                self.wfile.write(b'Left command executed')\n",
    "                \n",
    "            elif self.path.startswith('/right'):\n",
    "                speed = float(params.get('speed', [0])[0])\n",
    "                robot.right(speed)\n",
    "                self.send_response(200)\n",
    "                self.end_headers()\n",
    "                self.wfile.write(b'Right command executed')\n",
    "                \n",
    "            elif self.path.startswith('/forward'):\n",
    "                speed = float(params.get('speed', [0])[0])\n",
    "                robot.forward(speed)\n",
    "                self.send_response(200)\n",
    "                self.end_headers()\n",
    "                self.wfile.write(b'Forward command executed')\n",
    "                \n",
    "            elif self.path.startswith('/stop'):\n",
    "                robot.stop()\n",
    "                self.send_response(200)\n",
    "                self.end_headers()\n",
    "                self.wfile.write(b'Stop command executed')"
   ]
  },
  {
   "cell_type": "code",
   "execution_count": null,
   "id": "mathematical-programming",
   "metadata": {},
   "outputs": [],
   "source": [
    "# Function to run the HTTP server\n",
    "def run_server():\n",
    "    server = HTTPServer(('194.47.156.140', 8080), CameraHandler)\n",
    "    server.serve_forever()\n",
    "    # Start the server in a separate thread\n",
    "    thread = threading.Thread(target=run_server)\n",
    "    thread.start()"
   ]
  }
 ],
 "metadata": {
  "kernelspec": {
   "display_name": ".venv",
   "language": "python",
   "name": "python3"
  },
  "language_info": {
   "codemirror_mode": {
    "name": "ipython",
    "version": 3
   },
   "file_extension": ".py",
   "mimetype": "text/x-python",
   "name": "python",
   "nbconvert_exporter": "python",
   "pygments_lexer": "ipython3",
   "version": "3.12.3"
  }
 },
 "nbformat": 4,
 "nbformat_minor": 5
}
